{
 "cells": [
  {
   "cell_type": "markdown",
   "metadata": {},
   "source": [
    "In this chapter we will see how asyncio works and where it is better than threading. First lets see simple example to visualise the difference between `asyncio` and `threading`."
   ]
  },
  {
   "cell_type": "code",
   "execution_count": 3,
   "metadata": {},
   "outputs": [],
   "source": [
    "# spinner_thread.py\n",
    "\n",
    "import threading\n",
    "import itertools\n",
    "import time\n",
    "import sys\n",
    "\n",
    "class Signal:\n",
    "    go = True\n",
    "    \n",
    "def spin(msg, signal):\n",
    "    write, flush = sys.stdout.write, sys.stdout.flush\n",
    "    for char in itertools.cycle('|/-\\\\'):\n",
    "        status = char + ' ' + msg\n",
    "        write(status)\n",
    "        flush()\n",
    "        write('\\x88' * len(status))\n",
    "        time.sleep(.1)\n",
    "        if not signal.go:\n",
    "            break\n",
    "    write(' ' * len(status) + '\\x88' * len(status))\n",
    "    \n",
    "def slow_function():\n",
    "    # pretend to take long time\n",
    "    time.sleep(3)\n",
    "    return 42\n",
    "\n",
    "def supervisor():\n",
    "    signal = Signal()\n",
    "    spinner = threading.Thread(target=spin, \n",
    "                               args=('thinking!', signal))\n",
    "    print('spinner object', spinner)\n",
    "    spinner.start()\n",
    "    result = slow_function()\n",
    "    signal.go = False\n",
    "    spinner.join()\n",
    "    return result\n",
    "\n",
    "def main():\n",
    "    result = supervisor()\n",
    "    print('Answer: ', result)"
   ]
  },
  {
   "cell_type": "code",
   "execution_count": 4,
   "metadata": {},
   "outputs": [
    {
     "name": "stdout",
     "output_type": "stream",
     "text": [
      "spinner object <Thread(Thread-4, initial)>\n",
      "| thinking!/ thinking!- thinking!\\ thinking!| thinking!/ thinking!- thinking!\\ thinking!| thinking!/ thinking!- thinking!\\ thinking!| thinking!/ thinking!- thinking!\\ thinking!| thinking!/ thinking!- thinking!\\ thinking!| thinking!/ thinking!- thinking!\\ thinking!| thinking!/ thinking!- thinking!\\ thinking!| thinking!/ thinking!           Answer:  42\n"
     ]
    }
   ],
   "source": [
    "main()"
   ]
  },
  {
   "cell_type": "markdown",
   "metadata": {},
   "source": [
    "This does work so well on jupyter notebooks as you can see. Try running it as a script to see the difference.\n",
    "\n",
    "Now lets do the same thing using `asyncio`."
   ]
  },
  {
   "cell_type": "code",
   "execution_count": 8,
   "metadata": {},
   "outputs": [
    {
     "ename": "SyntaxError",
     "evalue": "invalid syntax (<ipython-input-8-3fe437302cdb>, line 27)",
     "output_type": "error",
     "traceback": [
      "\u001b[0;36m  File \u001b[0;32m\"<ipython-input-8-3fe437302cdb>\"\u001b[0;36m, line \u001b[0;32m27\u001b[0m\n\u001b[0;31m    spinner = asyncio.async(spin('thinking!'))\u001b[0m\n\u001b[0m                          ^\u001b[0m\n\u001b[0;31mSyntaxError\u001b[0m\u001b[0;31m:\u001b[0m invalid syntax\n"
     ]
    }
   ],
   "source": [
    "import asyncio\n",
    "import itertools\n",
    "import sys\n",
    "\n",
    "@asyncio.coroutine\n",
    "def spin(msg):\n",
    "    write, flush = sys.stdio.write, sys.stdio.flush\n",
    "    for char in itertools.cycle('|/-\\\\'):\n",
    "        status = char + ' ' + msg\n",
    "        write(status)\n",
    "        flush()\n",
    "        write('\\x88' * len(status))\n",
    "        try:\n",
    "            yield from asyncio.sleep(.1)\n",
    "        except asyncio.CancelledError:\n",
    "            break\n",
    "    write(' ' * len(status) + '\\x88' * len(status))\n",
    "    \n",
    "@asyncio.coroutine\n",
    "def slow_function():\n",
    "    # pretend waiting a long time for I/O\n",
    "    yield from asyncio.sleep(3)\n",
    "    return 42\n",
    "\n",
    "@asyncio.coroutine\n",
    "def supervisor():\n",
    "    spinner = asyncio.async(spin('thinking!'))\n",
    "    print('spinner object: ', spinner)\n",
    "    result = yield from slow_function()\n",
    "    spinner.cancel()\n",
    "    return result\n",
    "\n",
    "def main():\n",
    "    loop = asyncio.get_event_loop()\n",
    "    result = loop.run_until_complete(supervisor())\n",
    "    loop.close()\n",
    "    print('Answer: ', result)"
   ]
  },
  {
   "cell_type": "code",
   "execution_count": null,
   "metadata": {},
   "outputs": [],
   "source": []
  }
 ],
 "metadata": {
  "kernelspec": {
   "display_name": "Python 3",
   "language": "python",
   "name": "python3"
  },
  "language_info": {
   "codemirror_mode": {
    "name": "ipython",
    "version": 3
   },
   "file_extension": ".py",
   "mimetype": "text/x-python",
   "name": "python",
   "nbconvert_exporter": "python",
   "pygments_lexer": "ipython3",
   "version": "3.7.7"
  }
 },
 "nbformat": 4,
 "nbformat_minor": 4
}
